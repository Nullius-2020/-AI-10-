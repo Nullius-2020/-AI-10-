{
 "cells": [
  {
   "cell_type": "markdown",
   "metadata": {},
   "source": [
    "\n",
    "\n",
    "# 高考想重来，脑补橡皮擦，再卷网盘赛二,榜评分0.55599\n",
    "\n",
    "基于MTRNet++ 实现图像文字擦除,榜评分0.55599\n",
    "\n",
    "![](https://ai-studio-static-online.cdn.bcebos.com/ebe8f606943d43b69d70ecb4c3c520fecb01daab690a4cf68fc28de8587e1d04)\n",
    "\n",
    "[百度网盘大赛二，手写文字擦除](https://aistudio.baidu.com/aistudio/competition/detail/129/0)\n",
    "\n"
   ]
  },
  {
   "cell_type": "markdown",
   "metadata": {},
   "source": [
    "# 一、 如果高考能重来一次......\n",
    "**1.这是不是考完试,卷纸发下来之后，你的姿势**\n",
    "![](https://ai-studio-static-online.cdn.bcebos.com/75e55d3f35da491282e55d7aebcba959c8b438f9187941b8a57e744de7240d62)\n",
    "\n",
    "**2.面对试卷上的错题，心里会想点什么.....**\n",
    "![](https://ai-studio-static-online.cdn.bcebos.com/a2480472217542088198f11f26eabfc8fa408554a14c49af93f39822c0aecd10)\n",
    "\n",
    "**3.脑海中一定想过：如果有橡皮擦**\n",
    "\n",
    "![](https://ai-studio-static-online.cdn.bcebos.com/9a3381e6a47d498d84de027dfe6cff6efe690451ad9142c7bbe4f2642f92d61b)\n",
    "\n",
    "**4.考试能不能重来一次**\n",
    "\n",
    "![](https://ai-studio-static-online.cdn.bcebos.com/11eac3ce27d34af5b4e5454340b0676292b804716b87418eab8fd0160ab082f6)\n",
    "\n",
    "**5.高考想重来，前提是要有橡皮擦**"
   ]
  },
  {
   "cell_type": "markdown",
   "metadata": {},
   "source": [
    "# 二、做橡皮擦要分几步\n",
    "\n",
    "给定一幅自然场景图像，只将图像中文字区域抹去而不改动其他区域像素值的方法称为文字擦除算法。该方法在隐私保护，身份信息篡改，数据增广等领域有着广泛的应用和研究前景。\n",
    "![](https://ai-studio-static-online.cdn.bcebos.com/b505151c74774ac7b57259e1bd5e0739ff6bd7a63d8d4233be8c7a04b0d8e413)\n",
    "\n",
    "受传统生成对抗网络（GAN）算法的启发，基于深度学习的文字擦除算法都采用了类似的生成器+判别器的结构，其损失函数为：\n",
    "\n",
    "![](https://ai-studio-static-online.cdn.bcebos.com/ae96da839b654e16a0f7e15abb9e26e9208e32a5a0a845628c5189437773e85b)\n",
    "\n",
    "1. 整个式子由两项构成。x表示真实图片，z表示输入G网络的噪声，而G(z)表示G网络生成的图片。\n",
    "2. D(x)表示D网络判断真实图片是否真实的概率（因为x就是真实的，所以对于D来说，这个值越接近1越好）。而D(G(z))是D网络判断G生成的图片的是否真实的概率。\n",
    "3. G的目的：上面提到过，D(G(z))是D网络判断G生成的图片是否真实的概率，G应该希望自己生成的图片“越接近真实越好”。也就是说，G希望D(G(z))尽可能的大，这时V(D, G)会变小。因此我们看到式子的最前面的记号是min_G。\n",
    "4. D的目的：D的能力越强，D(x)应该越大，D(G(z))应该越小。这时V(D,G)会变大。因此式子对于D来说是求最大(max_D)。\n",
    "\n",
    "\n"
   ]
  },
  {
   "cell_type": "markdown",
   "metadata": {},
   "source": [
    "# 三、怎么做一个有思想的橡皮檫：MTRNet++\n",
    "\n",
    "文字擦除可以分为两个子任务：1）文字区域定位。2）文字内容擦除\n",
    "\n",
    "为了将两个子任务进行更好的学习，从而实现更准确的文字擦除结果，MTRNet在输入引入文字分割结果，让网络能够感知文字区域的位置信息，从而降低任务难度，实现更准确的擦除结果。但是由于需要提前知道文字区域的准确位置信息，所以这些方法具有一定的局限性。\n",
    "\n",
    "MTRNet++在STRNet基础上进行了改进（下图），通过引入一个微调子网络降低了整体网络对输入位置信息的依赖性，从而实现更鲁棒的文字擦除算法。\n",
    "\n",
    "![](https://ai-studio-static-online.cdn.bcebos.com/ddf17fc9608f42bf895e0c95a30be6b38c43814a4750489da05ab45a20dd650a)\n",
    "\n",
    "1.生成器由三个分支组成：掩码精化分支、粗修分支和接在两个分支后面的精修分支。\n",
    "\n",
    "2.输入数据由图像和掩码按通道连接而成，掩码可以随机生成，也可以通过预处理得到。\n",
    "\n",
    "3.判别器是PatchGAN结构，也可以是加了谱归一化的SN-PatchGAN。\n",
    "\n",
    "\n",
    "4.生成器的损失，由L1，Style，Perceptual和对抗损失组成：\n",
    "![](https://ai-studio-static-online.cdn.bcebos.com/b71789e6a14f40a68f4b902211764f04bbc1c6b6b47d484a9d651c10f28cf72a)\n",
    "\n",
    "5.判别器的损失是对抗损失：\n",
    "\n",
    "![](https://ai-studio-static-online.cdn.bcebos.com/a0552b8e5d454670bdd6f76221b770147bf5fa8fd8cf485c87a3d4f092a87b0f)\n",
    "\n"
   ]
  },
  {
   "cell_type": "markdown",
   "metadata": {},
   "source": [
    "# 四、制作橡皮擦"
   ]
  },
  {
   "cell_type": "code",
   "execution_count": 1,
   "metadata": {
    "collapsed": false,
    "execution": {
     "iopub.execute_input": "2022-01-11T00:41:27.985367Z",
     "iopub.status.busy": "2022-01-11T00:41:27.984810Z",
     "iopub.status.idle": "2022-01-11T00:41:43.261150Z",
     "shell.execute_reply": "2022-01-11T00:41:43.260248Z",
     "shell.execute_reply.started": "2022-01-11T00:41:27.985323Z"
    },
    "jupyter": {
     "outputs_hidden": false
    },
    "scrolled": true
   },
   "outputs": [],
   "source": [
    "#1.准备原料：解压比赛的数据集\n",
    "#!unzip data/data121261/dehw_train_dataset.zip -d data/ >>/dev/null\n",
    "#!unzip data/data121261/dehw_testA_dataset.zip -d data/ >>/dev/null"
   ]
  },
  {
   "cell_type": "code",
   "execution_count": 1,
   "metadata": {
    "execution": {
     "iopub.execute_input": "2022-01-21T05:09:35.499151Z",
     "iopub.status.busy": "2022-01-21T05:09:35.498681Z",
     "iopub.status.idle": "2022-01-21T05:09:37.125407Z",
     "shell.execute_reply": "2022-01-21T05:09:37.124548Z",
     "shell.execute_reply.started": "2022-01-21T05:09:35.499109Z"
    },
    "scrolled": true
   },
   "outputs": [],
   "source": [
    "!unzip data/data126180/dehw_testB_dataset.zip -d data/ >>/dev/null"
   ]
  },
  {
   "cell_type": "code",
   "execution_count": 2,
   "metadata": {
    "execution": {
     "iopub.execute_input": "2022-01-21T05:09:42.152949Z",
     "iopub.status.busy": "2022-01-21T05:09:42.152412Z",
     "iopub.status.idle": "2022-01-21T05:09:47.172013Z",
     "shell.execute_reply": "2022-01-21T05:09:47.170871Z",
     "shell.execute_reply.started": "2022-01-21T05:09:42.152906Z"
    },
    "scrolled": true
   },
   "outputs": [],
   "source": [
    "#2.准备工具\n",
    "!pip install scikit_image -q"
   ]
  },
  {
   "cell_type": "code",
   "execution_count": 2,
   "metadata": {
    "execution": {
     "iopub.execute_input": "2021-12-19T14:33:53.183634Z",
     "iopub.status.busy": "2021-12-19T14:33:53.183480Z",
     "iopub.status.idle": "2021-12-19T14:33:59.344504Z",
     "shell.execute_reply": "2021-12-19T14:33:59.343572Z",
     "shell.execute_reply.started": "2021-12-19T14:33:53.183614Z"
    },
    "scrolled": true
   },
   "outputs": [],
   "source": [
    "#3.用训练图像和标签生成掩码\n",
    "#%cd work/scripts/\n",
    "#!python generate_bbox.py"
   ]
  },
  {
   "cell_type": "code",
   "execution_count": null,
   "metadata": {
    "scrolled": true
   },
   "outputs": [],
   "source": [
    "#4.调好原料比例，生成数据集\n",
    "#%cd work/scripts/\n",
    "#!python create_dataset.py"
   ]
  },
  {
   "cell_type": "code",
   "execution_count": null,
   "metadata": {
    "scrolled": true
   },
   "outputs": [],
   "source": [
    "#5.调好配方，其中MASK类型8为固定生成；\n",
    "#  或者用上面生成的BBOX Mask，MASK类型设为7；\n",
    "#  如果是图像类型的Mask，设为3。\n",
    "#!cat /home/aistudio/work/config/config.yml"
   ]
  },
  {
   "cell_type": "code",
   "execution_count": null,
   "metadata": {
    "scrolled": true
   },
   "outputs": [],
   "source": [
    "#5.反复制作\n",
    "#%cd /home/aistudio/work/\n",
    "#!python train.py"
   ]
  },
  {
   "cell_type": "markdown",
   "metadata": {},
   "source": [
    "\n",
    "\n",
    "（1）output目录下文件夹的log目录下保存日志文件，训练过程中的参数保存在model目录下。\n",
    "\n",
    "（2）断点接续训练，在config.yml文件中设置G_MODEL_PATH和D_MODEL_PATH为保存过模型的路径。\n",
    "\n",
    "（3）可以通过左侧的VisualDL的数据模型可视化功能，查看训练指标和训练过程中生成的图像。\n",
    "\n",
    "                                 训练指标可视化\n",
    "\n",
    "\n",
    "![](https://ai-studio-static-online.cdn.bcebos.com/1231f5b5e59b437799f2a319bdce971bfa3ce8bf395d4349b289331f1202ee1e)\n",
    "\n",
    "\n",
    "                               训练过程生成的图像\n",
    "\n",
    "![](https://ai-studio-static-online.cdn.bcebos.com/2c087691c4e04e188f9809073281ddb9ead121e2fc0c4072894544ccf9303947)\n",
    "\n",
    "      上图中：左为输入原始图像，    中间为标签图像，        右边为生成图像\n",
    "\n",
    "\n",
    "\n",
    "\n",
    "\n",
    "\n"
   ]
  },
  {
   "cell_type": "code",
   "execution_count": null,
   "metadata": {
    "scrolled": true
   },
   "outputs": [],
   "source": [
    "#6.检查质量\n",
    "%cd /home/aistudio/work/\n",
    "!python test.py --config /home/aistudio/work/config/config.yml \\\n",
    "    --mode 3 --dataset_root /home/aistudio/data/dehw_testB_dataset/ \\\n",
    "    --pretrained /home/aistudio/output/20211222-213549/model/MaskInpaintModel_gen_25000.pdparams"
   ]
  },
  {
   "cell_type": "code",
   "execution_count": null,
   "metadata": {
    "scrolled": true
   },
   "outputs": [],
   "source": [
    "#7.试试效果,压缩文件提交评分\n",
    "%cd /home/aistudio/work/test_result/\n",
    "!zip result.zip *.png *.txt"
   ]
  },
  {
   "cell_type": "markdown",
   "metadata": {},
   "source": [
    "\n",
    "保存的文件在test_result路径中，进入该路径创建readme.txt文件，输入要求的内容：\n",
    "\n",
    "\n",
    "训练框架：PaddlePaddle\n",
    "\n",
    "代码运行环境：V100\n",
    "\n",
    "是否使用GPU：是\n",
    "\n",
    "单张图片耗时/s：1\n",
    "\n",
    "模型大小：45\n",
    "\n",
    "其他说明：算法参考MTRNet++"
   ]
  },
  {
   "cell_type": "markdown",
   "metadata": {},
   "source": [
    "# 总结\n",
    "手写文字擦除比赛的数据集很有挑战性，涨点的思路供参考：\n",
    "\n",
    "1.利用外部数据和预训练模型，在比赛数据集在微调；\n",
    "\n",
    "2.优化Mask的生成方式，准确定位待擦除的文字区域；\n",
    "\n",
    "3.调整模型结构；\n",
    "\n",
    "4.调整Config文件中的超参数。\n",
    "\n",
    "![](https://ai-studio-static-online.cdn.bcebos.com/1a5bb30a8cef42888523c1c18e14f09c69f54b72ac9e40d3849e9ed395c5b84a)\n",
    "\n",
    "**上表是论文中显示，MTRNet++在SCUT和Oxford数据集上获得SOTA。**\n",
    "\n",
    "\n",
    "\n",
    "\n",
    "\n",
    "\n",
    "\n",
    "\n",
    "\n",
    "参考资料：\n",
    "\n",
    "1.Paper: \n",
    "\n",
    "MTRNet++: One-stage mask-based scene text eraser.\n",
    "\n",
    "https://arxiv.org/pdf/1912.07183.pdf\n",
    "\n",
    "2.Code:\n",
    "\n",
    "https://github.com/neouyghur/One-stage-Mask-based-Scene-Text-Eraser"
   ]
  }
 ],
 "metadata": {
  "kernelspec": {
   "display_name": "Python 3",
   "language": "python",
   "name": "py35-paddle1.2.0"
  },
  "language_info": {
   "codemirror_mode": {
    "name": "ipython",
    "version": 3
   },
   "file_extension": ".py",
   "mimetype": "text/x-python",
   "name": "python",
   "nbconvert_exporter": "python",
   "pygments_lexer": "ipython3",
   "version": "3.7.4"
  },
  "widgets": {
   "application/vnd.jupyter.widget-state+json": {
    "state": {},
    "version_major": 2,
    "version_minor": 0
   }
  }
 },
 "nbformat": 4,
 "nbformat_minor": 4
}
